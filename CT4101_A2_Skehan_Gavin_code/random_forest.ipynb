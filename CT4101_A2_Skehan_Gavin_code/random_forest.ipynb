{
 "cells": [
  {
   "cell_type": "code",
   "id": "initial_id",
   "metadata": {
    "collapsed": true,
    "ExecuteTime": {
     "end_time": "2024-11-04T17:30:02.865365Z",
     "start_time": "2024-11-04T17:30:00.967761Z"
    }
   },
   "source": [
    "import pandas as pd\n",
    "import numpy as np\n",
    "from sklearn.ensemble import RandomForestRegressor\n",
    "from sklearn.metrics import accuracy_score, mean_squared_error, confusion_matrix, classification_report, precision_score, recall_score, f1_score, ConfusionMatrixDisplay\n",
    "from sklearn.model_selection import train_test_split, RandomizedSearchCV\n",
    "from scipy.stats import randint\n",
    "from sklearn.tree import export_graphviz\n",
    "from IPython.display import Image"
   ],
   "outputs": [],
   "execution_count": 1
  },
  {
   "metadata": {},
   "cell_type": "markdown",
   "source": "## Load the training and datasets",
   "id": "e2c81d89a629a426"
  },
  {
   "metadata": {
    "ExecuteTime": {
     "end_time": "2024-11-04T17:52:47.211363Z",
     "start_time": "2024-11-04T17:52:46.845078Z"
    }
   },
   "cell_type": "code",
   "source": [
    "data = \"steel.csv\"\n",
    "\n",
    "df_data = pd.read_csv(data)\n",
    "print(df_data.head())"
   ],
   "id": "627ce16ffbed7b8",
   "outputs": [
    {
     "name": "stdout",
     "output_type": "stream",
     "text": [
      "   normalising_temperature  tempering_temperature  percent_silicon  \\\n",
      "0                  178.500                    275           0.1530   \n",
      "1                  178.500                    950           0.1530   \n",
      "2                  178.500                    375           0.1530   \n",
      "3                  178.500                    900           0.1530   \n",
      "4                  189.525                    900           0.1624   \n",
      "\n",
      "   percent_chromium  percent_copper  percent_nickel  percent_sulphur  \\\n",
      "0          0.970575           0.942          0.8870              0.0   \n",
      "1          1.212726           0.942          0.8870              0.0   \n",
      "2          1.621165           0.942          0.8870              0.0   \n",
      "3          0.809989           0.942          0.8870              0.0   \n",
      "4          1.036229           0.849          0.9382              0.0   \n",
      "\n",
      "   percent_carbon  percent_manganese  tensile_strength  \n",
      "0           1.920                0.0         25.107613  \n",
      "1           1.920                0.0        140.035334  \n",
      "2           1.920                0.0         42.217650  \n",
      "3           1.920                0.0         95.015309  \n",
      "4           2.035                0.0        113.266773  \n"
     ]
    }
   ],
   "execution_count": 3
  },
  {
   "metadata": {},
   "cell_type": "code",
   "outputs": [],
   "execution_count": null,
   "source": [
    "# Define the features and target variable\n",
    "X = data.drop('tensile_strength', axis=1)\n",
    "y = data['tensile_strength']\n",
    "\n",
    "# Split the Data into training and test sets\n",
    "X_train, X_test, y_train, y_test = train_test_split(X, y, test_size=0.2, random_state=0)\n"
   ],
   "id": "3c40255505961dbe"
  },
  {
   "metadata": {},
   "cell_type": "markdown",
   "source": "## Train the Random Forest Regression Model",
   "id": "db4b9e5ab607363e"
  },
  {
   "metadata": {},
   "cell_type": "code",
   "outputs": [],
   "execution_count": null,
   "source": [
    "rf = RandomForestRegressor(random_state=42)\n",
    "rf.fit(X_train, y_train)"
   ],
   "id": "b95a3e82f8effe42"
  }
 ],
 "metadata": {
  "kernelspec": {
   "display_name": "Python 3",
   "language": "python",
   "name": "python3"
  },
  "language_info": {
   "codemirror_mode": {
    "name": "ipython",
    "version": 2
   },
   "file_extension": ".py",
   "mimetype": "text/x-python",
   "name": "python",
   "nbconvert_exporter": "python",
   "pygments_lexer": "ipython2",
   "version": "2.7.6"
  }
 },
 "nbformat": 4,
 "nbformat_minor": 5
}
